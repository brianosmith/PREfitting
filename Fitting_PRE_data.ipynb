{
  "nbformat": 4,
  "nbformat_minor": 0,
  "metadata": {
    "colab": {
      "name": "Fitting PRE data.ipynb",
      "provenance": [],
      "authorship_tag": "ABX9TyNWRiXaDczjFPboft6HLuvv",
      "include_colab_link": true
    },
    "kernelspec": {
      "name": "python3",
      "display_name": "Python 3"
    },
    "language_info": {
      "name": "python"
    }
  },
  "cells": [
    {
      "cell_type": "markdown",
      "metadata": {
        "id": "view-in-github",
        "colab_type": "text"
      },
      "source": [
        "<a href=\"https://colab.research.google.com/github/brianosmith/PREfitting/blob/main/Fitting_PRE_data.ipynb\" target=\"_parent\"><img src=\"https://colab.research.google.com/assets/colab-badge.svg\" alt=\"Open In Colab\"/></a>"
      ]
    },
    {
      "cell_type": "markdown",
      "metadata": {
        "id": "IKZAFOwaf-ZU"
      },
      "source": [
        "# Fitting paramagnetic relaxation enhancement data\n",
        "\n",
        "## Theory\n",
        "The effect of PREs on HSQC crosspeak intensitities can be described by \n",
        "\n",
        "$\n",
        "I_{para}/I_{dia}=R_2e^{−R_2^{sp}t}/(R_2+R_2^{sp})\n",
        "$\n",
        "\n",
        "where, $I_{para}$ and $I_{dia}$ are the measured intensities of the cross peaks for the paramagnetic and diamagnetic forms of the protein, respectively, and t is the total evolution time of the transverse proton magnetization during the NMR experiment. The values of R correspond to the rate of the transverse relaxation of the amide proton, $R_2$ is the intrinsic relaxation rate of the proton, $R_2^{sp}$, is the contribution to the relaxation caused by the paramagnetic probe.\n",
        "\n",
        "The value of $R_2^{sp}$ is dependent upon r, the distance between the amide proton and the probe. This relationship is described by a modified version of the Solomon-Bloembergen (Solomon and Bloembergen, 1956; Battiste and Wagner, 2000)\n",
        "\n",
        "$\n",
        "r=[(K/R_2^{sp})(4τ_c+{3τ_c}/{(1+ω_H^2τ_c^2)})]^{1/6}\n",
        "$\n",
        "\n",
        "where, K is a constant ($1.23 × 10^{-32} cm^6 sec^{-2}$) that describes the spin properties of the MTSL spin label (Battiste and Wagner, 2000), $ω_H$ is the Larmor frequency of the proton spin, $τ_c$ is the apparent PRE correlation time (Simon et al., 2010). $ω_H$ is known and values of $τ_c$ can be estimated based on either the molecular weight of the protein (Cavanagh et al., 1995) or based on $^{15}$N backbone relaxation measurements.\n",
        "\n",
        "Rearranging the first equation\n",
        "\n",
        "$\n",
        "R_2^{sp} = -R_2 + \\frac{1}{t}\\times W(\\frac{R_2te^{R_2t}}{I_{para}/I_{dia}})\n",
        "$\n",
        "\n",
        "where W() is the Lambert function."
      ]
    },
    {
      "cell_type": "code",
      "metadata": {
        "colab": {
          "base_uri": "https://localhost:8080/",
          "height": 81
        },
        "id": "E1jTSQkTf9V7",
        "outputId": "69c792a2-5a3d-4fed-f06d-a1abb8be1b38"
      },
      "source": [
        "from sympy import *\n",
        "init_printing(use_unicode=True)\n",
        "\n",
        "ratio, t, R2, R2sp = symbols('I_r, t R_2 R_2^{sp}')\n",
        "\n",
        "Eq(ratio,(R2*exp(-1*R2sp*t))/(R2+R2sp))\n",
        "\n",
        "solve(Eq(ratio,(R2*exp(-1*R2sp*t))/(R2+R2sp)),R2sp)\n",
        "#W() in this solution is the Lambert function"
      ],
      "execution_count": 49,
      "outputs": [
        {
          "output_type": "execute_result",
          "data": {
            "image/png": "[encoded data removed]",
            "text/latex": "$\\displaystyle \\left[ - R_{2} + \\frac{W\\left(\\frac{R_{2} t e^{R_{2} t}}{I_{r}}\\right)}{t}\\right]$",
            "text/plain": [
              "⎡       ⎛      R₂⋅t⎞⎤\n",
              "⎢       ⎜R₂⋅t⋅ℯ    ⎟⎥\n",
              "⎢      W⎜──────────⎟⎥\n",
              "⎢       ⎝    Iᵣ    ⎠⎥\n",
              "⎢-R₂ + ─────────────⎥\n",
              "⎣            t      ⎦"
            ]
          },
          "metadata": {
            "tags": []
          },
          "execution_count": 49
        }
      ]
    },
    {
      "cell_type": "code",
      "metadata": {
        "colab": {
          "base_uri": "https://localhost:8080/",
          "height": 84
        },
        "id": "Eum9CrfMpLTu",
        "outputId": "45a60c62-cce4-4e1b-b9b1-aaa346f3fcd0"
      },
      "source": [
        "r, K, tc, wh = symbols('r K τ_c ω_H')\n",
        "Eq(r,((K/R2sp)*(4*tc + (3*tc/(1+wh**2*tc**2))))**(1/6))\n",
        "\n",
        "#solve(Eq(r,((K/R2sp)*(4*tc + (3*tc/(1+wh**2*tc**2))))**(1/6)),R2sp)\n"
      ],
      "execution_count": 52,
      "outputs": [
        {
          "output_type": "execute_result",
          "data": {
            "image/png": "[encoded data removed]",
            "text/latex": "$\\displaystyle r = \\left(\\frac{K \\left(4 τ_{c} + \\frac{3 τ_{c}}{τ_{c}^{2} ω_{H}^{2} + 1}\\right)}{R_2^{sp}}\\right)^{0.166666666666667}$",
            "text/plain": [
              "                               0.166666666666667\n",
              "    ⎛  ⎛            3⋅τ_c    ⎞⎞                 \n",
              "    ⎜K⋅⎜4⋅τ_c + ─────────────⎟⎟                 \n",
              "    ⎜  ⎜           2    2    ⎟⎟                 \n",
              "    ⎜  ⎝        τ_c ⋅ω_H  + 1⎠⎟                 \n",
              "r = ⎜─────────────────────────⎟                 \n",
              "    ⎝        R_2__{sp}        ⎠                 "
            ]
          },
          "metadata": {
            "tags": []
          },
          "execution_count": 52
        }
      ]
    },
    {
      "cell_type": "code",
      "metadata": {
        "colab": {
          "base_uri": "https://localhost:8080/",
          "height": 352
        },
        "id": "VzOI_FML9r7q",
        "outputId": "9e327ffd-408f-4301-d2a2-2356979a2ad7"
      },
      "source": [
        "# combining the two equations to get r from Ipara/Idia\n",
        "from scipy.special import lambertw\n",
        "from numpy import linspace\n",
        "\n",
        "# some constants\n",
        "k = 1.23E-32  # cm^6 s^-2  # NB cm not m or A\n",
        "r2 = 0.15     # 1/Hz = s   # calculated from amide linewidth = pi/R2\n",
        "T = 9.0E-3    # s          # total length of INEPT delays in HSQC\n",
        "Tc = 8.0e-9   # s          # estimated from structure or from 15N relaxation\n",
        "Wh = 599.98E6 # Hz = s^-1  # 1H frequency of spectrometer used\n",
        "\n",
        "def realLambertW(z):\n",
        "  #takes a float, converts to complex, applies lambertw and returns real part\n",
        "  compZ = complex(z,0)\n",
        "  lwz = lambertw(compZ)\n",
        "  #should check there's no complex part\n",
        "  return lwz.real\n",
        "\n",
        "def rFromIratio(Ir, r2, T, Tc, Wh, k=1.23E-32):\n",
        "  #takes the intensity ratio and returns the coresponding distance\n",
        "  Wbit = realLambertW((r2*T*exp(r2*T))/Ir)\n",
        "  r = ((k/(-1*r2 + Wbit/T))*(4*Tc + (3*Tc/(1+Wh**2*Tc**2))))**(1/6)\n",
        "  # convert to metres from centimetres\n",
        "  r = r/100\n",
        "  return r\n",
        "\n",
        "# construct a calibration curve using the functions defined above\n",
        "Iratio = linspace(0.01,1.0,101)\n",
        "distances = []\n",
        "for Ir in Iratio:\n",
        "  r = rFromIratio(Ir, r2, T, Tc, Wh)\n",
        "  distances.append(r)\n",
        "\n",
        "# for drawing the graph\n",
        "%matplotlib inline\n",
        "import matplotlib.pyplot as plt\n",
        "\n",
        "plt.title(\"PRE intensity ratio to distance relationship\")\n",
        "plt.xlabel('Ipara/Idia')\n",
        "plt.ylabel('distance (m)')\n",
        "plt.plot(Iratio,distances)\n",
        "#plt.legend()"
      ],
      "execution_count": 114,
      "outputs": [
        {
          "output_type": "stream",
          "text": [
            "/usr/local/lib/python3.7/dist-packages/ipykernel_launcher.py:24: RuntimeWarning: invalid value encountered in double_scalars\n"
          ],
          "name": "stderr"
        },
        {
          "output_type": "execute_result",
          "data": {
            "text/plain": [
              "[<matplotlib.lines.Line2D at 0x7f539ec06450>]"
            ]
          },
          "metadata": {
            "tags": []
          },
          "execution_count": 114
        },
        {
          "output_type": "display_data",
          "data": {
            "image/png": "[encoded data removed]",
            "text/plain": [
              "<Figure size 432x288 with 1 Axes>"
            ]
          },
          "metadata": {
            "tags": [],
            "needs_background": "light"
          }
        }
      ]
    },
    {
      "cell_type": "markdown",
      "metadata": {
        "id": "thTSC3JVaxdI"
      },
      "source": [
        "## Analysis of experimental data\n",
        "Compare distances calculated from Ipara/Idia intensity ratios with those measured from the structure(s)."
      ]
    },
    {
      "cell_type": "code",
      "metadata": {
        "id": "H8A4CizMmmVm"
      },
      "source": [
        "#Read Ipara/Idia ratios by residue number as a pandas dataframe\n",
        "\n",
        "#(Read diamagnetic 1H linewidths by residue number as pandas dataframe.\n",
        "# Calculate averate linewidth for average R2 estimate or store per residue\n",
        "# R2s to the Ipara/Idia dataframe for the distance extraction)\n",
        "\n",
        "#Add column to store distances and calculate using rFromIratio() applying\n",
        "# threshold and ceiling values\n",
        "\n",
        "#Read distances of each amide H from the spin label attachment site as\n",
        "# calculated from the structure(s) as a pandas dataframe\n",
        "\n",
        "#Plot the PRE distances vs the structure distances and calculate correlation\n",
        "# and stats by linear regression"
      ],
      "execution_count": null,
      "outputs": []
    }
  ]
}